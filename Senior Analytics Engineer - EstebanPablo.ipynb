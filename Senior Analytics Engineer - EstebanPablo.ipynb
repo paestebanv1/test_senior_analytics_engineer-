{
 "cells": [
  {
   "cell_type": "markdown",
   "id": "c2450cbe",
   "metadata": {},
   "source": [
    "# **Data Engineering Project**\n",
    "### Created by: Pablo Andres Esteban Vargas"
   ]
  },
  {
   "cell_type": "code",
   "execution_count": 1,
   "id": "15cfd989",
   "metadata": {},
   "outputs": [],
   "source": [
    "import pandas as pd\n",
    "import numpy as np\n",
    "import random as rnd\n",
    "import time as tm\n",
    "import datetime as dtm\n",
    "import sqlalchemy\n",
    "from sqlalchemy import create_engine\n",
    "from random import choice\n",
    "from tabulate import tabulate\n",
    "import matplotlib.pyplot as plt\n",
    "import warnings\n",
    "warnings.filterwarnings('ignore')\n",
    "import re\n",
    "import sqlite3\n",
    "from sqlite3 import Error"
   ]
  },
  {
   "cell_type": "markdown",
   "id": "84e889e5",
   "metadata": {},
   "source": [
    "## Schema1 functions"
   ]
  },
  {
   "cell_type": "code",
   "execution_count": 2,
   "id": "76c2b6a1",
   "metadata": {},
   "outputs": [],
   "source": [
    "def create_initial_schema(claims):\n",
    "    #Variables Definition\n",
    "    providerType = [\"inpatient\", \"snf\", \"home health\", \"hha\", \"null\", \"outpatient\"]\n",
    "    procedureCode = ['CAT THERAPY', 'INSULIN', 'PHYSICAL THERAPY', 'LIGHT THERAPY', 'INSULINE']\n",
    "    diagnosis = ['DIABETES', 'LONELINESS', 'SADNESS', 'LACK OF EXERCISE', 'DBTS']\n",
    "    stime = tm.mktime(tm.strptime(\"2010-1-1\", '%Y-%m-%d'))\n",
    "    etime = tm.mktime(tm.strptime(\"2020-12-31\", '%Y-%m-%d'))\n",
    "    #Creating providerType and claimId     \n",
    "    cl_claim = [(rnd.choice(providerType), x) for x in range(0,claims)]\n",
    "    \n",
    "    #Creating Schema 1 providerType and claimId \n",
    "    cl_claim = [(x, y, np.random.randint(2,11) if (x == \"home health\" or x == \"hha\") else 1, \\\n",
    "            tm.strftime('%Y-%m-%d', tm.localtime(stime + rnd.random() * (etime - stime)))) for x, y in cl_claim]\n",
    "    #Creating lineNumber and fromDate\n",
    "    cl_claim = [(x, y, z, \"4\"+str(np.random.randint(10000,99999)) if (x == \"outpatient\" or x == \"null\") \\\n",
    "             else str((choice([i for i in range(0,9) if i not in [4]]))) + str(np.random.randint(10000,99999)), a) \\\n",
    "             for x, y, z, a in cl_claim]\n",
    "    #Creating ccn\n",
    "    cl_claim = [[(x, y, z, a, dtm.datetime.strptime(b, '%Y-%m-%d') + dtm.timedelta(days=z)) for z in range(1,z+1)] \\\n",
    "                for x, y, z, a, b in cl_claim]\n",
    "    #Creating rows for lineNumber and fromDate  \n",
    "    flatten_cl_claim = [val for sublist in cl_claim for val in sublist]\n",
    "    #Creating list with Schema 1\n",
    "    claim_generator = ((x, \"claim_id_\"+str(y), \"line_number_\"+str(z), a, rnd.choice(procedureCode), \\\n",
    "                        rnd.choice(diagnosis), b) for x,y,z,a,b in flatten_cl_claim)\n",
    "    df = pd.DataFrame(claim_generator, columns=[\"providerType\", \"claimId\", \"lineNumber\", \"ccn\", \"procedureCode\", \\\n",
    "                                        \"diagnosis\",\"fromDate\"])\n",
    "    df['new_id'] = df.index\n",
    "    return df"
   ]
  },
  {
   "cell_type": "code",
   "execution_count": 3,
   "id": "731b539c",
   "metadata": {},
   "outputs": [],
   "source": [
    "def define_value_per_provider(df):\n",
    "    conditions_provider_type = [\n",
    "    (df['providerType'] == \"inpatient\"),\n",
    "    (df['providerType'] == \"snf\"),\n",
    "    (df['providerType'] == \"home health\"),\n",
    "    (df['providerType'] == \"hha\"),\n",
    "    (df['providerType'] == \"null\"),\n",
    "    (df['providerType'] == \"outpatient\")\n",
    "    ]\n",
    "    values_provider_type = [70, 100, 0.2, 0.2, 40, 40]\n",
    "    df['providerTypeBase'] = np.select(conditions_provider_type, values_provider_type)\n",
    "    return df"
   ]
  },
  {
   "cell_type": "code",
   "execution_count": 4,
   "id": "66694f5e",
   "metadata": {},
   "outputs": [],
   "source": [
    "def define_value_per_procedure(df):\n",
    "    conditions_procedure_code = [\n",
    "    (df['procedureCode'] == \"CAT THERAPY\"),\n",
    "    (df['procedureCode'] == \"INSULIN\"),\n",
    "    (df['procedureCode'] == \"PHYSICAL THERAPY\"),\n",
    "    (df['procedureCode'] == \"LIGHT THERAPY\"),\n",
    "    (df['procedureCode'] == \"INSULINE\")\n",
    "    ]\n",
    "    values_procedure_code = [40, 0.1, 35, 36, 0.1]\n",
    "    df['valuesProcedureBase'] = np.select(conditions_procedure_code, values_procedure_code)\n",
    "    return df"
   ]
  },
  {
   "cell_type": "code",
   "execution_count": 5,
   "id": "38fc2cbe",
   "metadata": {},
   "outputs": [],
   "source": [
    "def define_allowed_amount(df, mu, sigma, algorithm):\n",
    "    df = df.reset_index(drop=True)\n",
    "    count = df[df.columns[0]].count()\n",
    "    if algorithm == \"lognormal\":\n",
    "        value_adjust = np.random.lognormal(mu, sigma, count).tolist()\n",
    "        df[\"income\"] = value_adjust\n",
    "        df[\"allowedAmount\"] = df[\"providerTypeBase\"] + df[\"valuesProcedureBase\"] + df[\"income\"]\n",
    "    if algorithm == \"uniform\":\n",
    "        value_adjust = np.random.uniform(mu, sigma, count).tolist()\n",
    "        df[\"income\"] = value_adjust\n",
    "        df[\"allowedAmount\"] = df[\"providerTypeBase\"] + (df[\"valuesProcedureBase\"] * df[\"income\"])\n",
    "    df = df.drop('providerTypeBase', axis=1)\n",
    "    df = df.drop('valuesProcedureBase', axis=1)\n",
    "    df = df.drop('income', axis=1)\n",
    "    return df"
   ]
  },
  {
   "cell_type": "code",
   "execution_count": 6,
   "id": "4c20ffb8",
   "metadata": {},
   "outputs": [],
   "source": [
    "def clean_index(df):\n",
    "    df = df.sort_values(['new_id'], ignore_index=True)\n",
    "    df = df.drop('new_id', axis=1)\n",
    "    df = df.convert_dtypes()\n",
    "    df['fromDate'] = df['fromDate'].astype(\"string\")\n",
    "    df['allowedAmount'] = df['allowedAmount'].astype(\"string\")\n",
    "    return df"
   ]
  },
  {
   "cell_type": "code",
   "execution_count": 7,
   "id": "c2b100ea",
   "metadata": {},
   "outputs": [],
   "source": [
    "def generete_schema1(amount):\n",
    "    df1 = create_initial_schema(amount)\n",
    "    df1 = define_value_per_provider(df1)\n",
    "    df1 = define_value_per_procedure(df1)\n",
    "    schema1 = pd.concat([define_allowed_amount(df1[df1.providerType == \"snf\"], 6., 1., \"lognormal\"), \\\n",
    "                         define_allowed_amount(df1[df1.providerType == \"inpatient\"], 6., 1., \"lognormal\"), \\\n",
    "                         define_allowed_amount(df1[(df1.providerType == \"outpatient\") | (df1.providerType == \"null\")], 6., 1., \"lognormal\"), \\\n",
    "                         define_allowed_amount(df1[(df1.providerType == \"hha\") | (df1.providerType == \"home health\")], 50, 1., \"uniform\")])\n",
    "    schema1 = schema1.reset_index(drop=True)\n",
    "    schema1 = clean_index(schema1)\n",
    "    return schema1"
   ]
  },
  {
   "cell_type": "markdown",
   "id": "b1249050",
   "metadata": {},
   "source": [
    "## Schema 2 functions"
   ]
  },
  {
   "cell_type": "code",
   "execution_count": 8,
   "id": "4e23c594",
   "metadata": {},
   "outputs": [],
   "source": [
    "def modify_provider_type(df):\n",
    "    df.loc[df[\"providerType\"] == \"inpatient\", \"providerType\"] = \"ip\"\n",
    "    df.loc[df[\"providerType\"] == \"home health\", \"providerType\"] = \"hha\"\n",
    "    df.loc[df[\"providerType\"] == \"null\", \"providerType\"] = \"op\"\n",
    "    df.loc[df[\"providerType\"] == \"outpatient\", \"providerType\"] = \"op\"\n",
    "    return df"
   ]
  },
  {
   "cell_type": "code",
   "execution_count": 9,
   "id": "4e7dd67a",
   "metadata": {},
   "outputs": [],
   "source": [
    "def modify_line_number(df):\n",
    "    df['lineNumber'] = df['lineNumber'].str[12:]\n",
    "    return df"
   ]
  },
  {
   "cell_type": "code",
   "execution_count": 10,
   "id": "05c56f30",
   "metadata": {},
   "outputs": [],
   "source": [
    "def clean_procedure_code_diagnosis(df):\n",
    "    df.loc[df[\"procedureCode\"] == \"INSULINE\", \"procedureCode\"] = \"INSULIN\"\n",
    "    df.loc[df[\"diagnosis\"] == \"DBTS\", \"diagnosis\"] = \"DIABETES\"\n",
    "    return df"
   ]
  },
  {
   "cell_type": "code",
   "execution_count": 11,
   "id": "f3887b2f",
   "metadata": {},
   "outputs": [],
   "source": [
    "def edit_data_type(df):\n",
    "    df['line_number'] = df['line_number'].astype(int)\n",
    "    df['allowed_amount'] = df['allowed_amount'].astype(float)\n",
    "    df[\"from_date\"] = pd.to_datetime(df[\"from_date\"])\n",
    "    df = df.convert_dtypes()\n",
    "    return df"
   ]
  },
  {
   "cell_type": "code",
   "execution_count": 12,
   "id": "79718c0e",
   "metadata": {},
   "outputs": [],
   "source": [
    "  \n",
    "def categorise_outlier_cost_inpatient(row, value):  \n",
    "    if (row['allowed_amount'] >= value) and (row['provider_type'] == \"inpatient\"):\n",
    "        return True\n",
    "    else:\n",
    "        return False    "
   ]
  },
  {
   "cell_type": "code",
   "execution_count": 13,
   "id": "39853c1c",
   "metadata": {},
   "outputs": [],
   "source": [
    "def calculate_high_cost(df, percentil_value, new_column):\n",
    "    df['new_id'] = df.index\n",
    "    df1 = pd.DataFrame()\n",
    "    \n",
    "    list_providers = df['provider_type'].drop_duplicates().tolist()\n",
    "    list_procedures = df['procedure_code'].drop_duplicates().tolist()\n",
    "\n",
    "    for provider in list_providers:\n",
    "        for procedure in list_procedures:\n",
    "            df_s = df.loc[(df.provider_type == provider) & (df.procedure_code == procedure)]            \n",
    "            percentil = df_s.allowed_amount.quantile(percentil_value)\n",
    "            df_s[new_column] = np.where(df_s['allowed_amount'] >= percentil, True, False)   \n",
    "            df1 = pd.concat([df1, df_s])\n",
    "    df1 = df1.sort_values(['new_id'], ignore_index=True)\n",
    "    df1 = df1.drop('new_id', axis=1)\n",
    "    return df1"
   ]
  },
  {
   "cell_type": "code",
   "execution_count": 14,
   "id": "09907d04",
   "metadata": {},
   "outputs": [],
   "source": [
    "def calculate_outlier_cost_inpatient(df, percentil_value):\n",
    "    df_slice = df[(df.provider_type == \"ip\")]\n",
    "    percentil = df_slice.allowed_amount.quantile(percentil_value)\n",
    "    df[\"outlier_cost_inpatient\"] = df.apply(lambda row: categorise_outlier_cost_inpatient(row, percentil), axis=1)\n",
    "    return df"
   ]
  },
  {
   "cell_type": "code",
   "execution_count": 15,
   "id": "67c707d4",
   "metadata": {},
   "outputs": [],
   "source": [
    "def flags_creation(df):                \n",
    "    df['is_diabetic'] = np.where(df['diagnosis'] == \"DIABETES\", True, False)\n",
    "    df['is_lonely'] = np.where(df['diagnosis'] == \"LONELINESS\", True, False)\n",
    "    df['given_insulin'] = np.where(df['procedure_code'] == \"INSULIN\", True, False)\n",
    "    df = calculate_high_cost(df, 0.9, \"high_cost\")\n",
    "    df = calculate_outlier_cost_inpatient(df, 0.99)\n",
    "    df['created_at'] = pd.to_datetime(\"2015-06-15\",format='%Y-%m-%d') \n",
    "    df['active'] = np.where(df['from_date'] >= df['created_at'], True, False)\n",
    "    df['valid_from'] = pd.to_datetime(\"2021-11-24\",format='%Y-%m-%d')\n",
    "    df['valid_thru'] = pd.to_datetime(\"2021-05-05\",format='%Y-%m-%d')        \n",
    "    return df"
   ]
  },
  {
   "cell_type": "code",
   "execution_count": 16,
   "id": "00f59bc6",
   "metadata": {},
   "outputs": [],
   "source": [
    "def create_schema2(df):\n",
    "    df = modify_provider_type(df)\n",
    "    df = modify_line_number(df)\n",
    "    df = clean_procedure_code_diagnosis(df)\n",
    "    df.columns = [re.sub(r'(?<!^)(?=[A-Z])', '_', x).lower() for x in df.columns]\n",
    "    df = edit_data_type(df)\n",
    "    df = flags_creation(df)\n",
    "    return df"
   ]
  },
  {
   "cell_type": "markdown",
   "id": "87b39e0a",
   "metadata": {},
   "source": [
    "## Creating schemas"
   ]
  },
  {
   "cell_type": "code",
   "execution_count": 17,
   "id": "0a00982c",
   "metadata": {},
   "outputs": [],
   "source": [
    "schema1 = generete_schema1(5000)"
   ]
  },
  {
   "cell_type": "code",
   "execution_count": 18,
   "id": "c90d0197",
   "metadata": {},
   "outputs": [],
   "source": [
    "schema2 = create_schema2(schema1.copy())"
   ]
  },
  {
   "cell_type": "markdown",
   "id": "515f62e4",
   "metadata": {},
   "source": [
    "## Database Functions"
   ]
  },
  {
   "cell_type": "code",
   "execution_count": 19,
   "id": "cb3ac160",
   "metadata": {},
   "outputs": [],
   "source": [
    "def create_connection(db_file):\n",
    "    conn = None\n",
    "    try:\n",
    "        conn = sqlite3.connect(db_file)\n",
    "    except Error as e:\n",
    "        print(e)\n",
    "\n",
    "    return conn"
   ]
  },
  {
   "cell_type": "code",
   "execution_count": 20,
   "id": "b2988573",
   "metadata": {},
   "outputs": [],
   "source": [
    "def create_tables(conn):\n",
    "    cursor_obj = conn.cursor()    \n",
    "    raw_claims_history = \"\"\" CREATE TABLE raw_claims_history (\n",
    "                index INT NOT NULL,\n",
    "                claimId VARCHAR(255) NOT NULL,\n",
    "                ccn VARCHAR(255) NOT NULL,\n",
    "                providerType VARCHAR(255),\n",
    "                lineNumber VARCHAR(255) NOT NULL,\n",
    "                allowedAmount VARCHAR(255) NOT NULL,\n",
    "                procedureCode VARCHAR(255) NOT NULL,\n",
    "                diagnosis VARCHAR(255) NOT NULL,\n",
    "                fromDate VARCHAR(255) NOT NULL\n",
    "            ); \"\"\"    \n",
    "\n",
    "    claims_history = \"\"\" CREATE TABLE claims_history (\n",
    "            index INT NOT NULL,\n",
    "            claim_id VARCHAR(255) NOT NULL,\n",
    "            ccn VARCHAR(255) NOT NULL,\n",
    "            provider_type VARCHAR(255) NOT NULL,\n",
    "            line_number INT NOT NULL,\n",
    "            allowed_amount REAL NOT NULL,\n",
    "            procedure_code VARCHAR(255) NOT NULL,\n",
    "            diagnosis VARCHAR(255) NOT NULL,\n",
    "            from_date VARCHAR(255) NOT NULL,\n",
    "            is_diabetic INT NOT NULL,\n",
    "            is_lonely INT NOT NULL,\n",
    "            given_insulin INT NOT NULL,\n",
    "            high_cost INT NOT NULL,\n",
    "            outlier_cost_inpatient INT,\n",
    "            created_at VARCHAR(255) NOT NULL,\n",
    "            active INT NOT NULL,\n",
    "            valid_from VARCHAR(255) NOT NULL,\n",
    "            valid_thru VARCHAR(255) NOT NULL\n",
    "        ); \"\"\"\n",
    "    try:\n",
    "        cursor_obj.execute(claims_history)\n",
    "    except Error as e:\n",
    "         print(e)\n",
    "\n",
    "    try:\n",
    "        cursor_obj.execute(raw_claims_history)\n",
    "    except Error as e:\n",
    "         print(e)\n",
    "    conn.close()"
   ]
  },
  {
   "cell_type": "code",
   "execution_count": 21,
   "id": "9af86b20",
   "metadata": {},
   "outputs": [],
   "source": [
    "def insert_data(schema1, schema2):\n",
    "    engine = sqlalchemy.create_engine('sqlite:///signify_data_engineering.db', echo=False)\n",
    "    schema1.to_sql('raw_claims_history', con=engine, if_exists='append')\n",
    "    schema2.to_sql('claims_history', con=engine, if_exists='append')"
   ]
  },
  {
   "cell_type": "markdown",
   "id": "1d346dc3",
   "metadata": {},
   "source": [
    "## Create db, tables and inserting data"
   ]
  },
  {
   "cell_type": "code",
   "execution_count": 22,
   "id": "9bad1345",
   "metadata": {},
   "outputs": [
    {
     "name": "stdout",
     "output_type": "stream",
     "text": [
      "table claims_history already exists\n",
      "table raw_claims_history already exists\n"
     ]
    }
   ],
   "source": [
    "database = r\"signify_data_engineering.db\"\n",
    "connection_obj = create_connection(database)\n",
    "create_tables(connection_obj)\n",
    "insert_data(schema1, schema2)"
   ]
  }
 ],
 "metadata": {
  "kernelspec": {
   "display_name": "Python 3 (ipykernel)",
   "language": "python",
   "name": "python3"
  },
  "language_info": {
   "codemirror_mode": {
    "name": "ipython",
    "version": 3
   },
   "file_extension": ".py",
   "mimetype": "text/x-python",
   "name": "python",
   "nbconvert_exporter": "python",
   "pygments_lexer": "ipython3",
   "version": "3.9.13"
  }
 },
 "nbformat": 4,
 "nbformat_minor": 5
}
